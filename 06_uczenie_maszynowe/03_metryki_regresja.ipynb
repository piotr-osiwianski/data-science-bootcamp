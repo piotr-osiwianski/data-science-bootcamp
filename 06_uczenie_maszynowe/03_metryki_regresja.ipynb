{
  "nbformat": 4,
  "nbformat_minor": 0,
  "metadata": {
    "colab": {
      "name": "03_metryki_regresja.ipynb",
      "provenance": [],
      "include_colab_link": true
    },
    "kernelspec": {
      "name": "python3",
      "display_name": "Python 3"
    }
  },
  "cells": [
    {
      "cell_type": "markdown",
      "metadata": {
        "id": "view-in-github",
        "colab_type": "text"
      },
      "source": [
        "<a href=\"https://colab.research.google.com/github/piotr-osiwianski/data-science-bootcamp/blob/master/06_uczenie_maszynowe/03_metryki_regresja.ipynb\" target=\"_parent\"><img src=\"https://colab.research.google.com/assets/colab-badge.svg\" alt=\"Open In Colab\"/></a>"
      ]
    },
    {
      "cell_type": "markdown",
      "metadata": {
        "id": "cVoURqdBJ6Vm"
      },
      "source": [
        "* @author: krakowiakpawel9@gmail.com  \n",
        "* @site: e-smartdata.org"
      ]
    },
    {
      "cell_type": "markdown",
      "metadata": {
        "id": "5gjFu2l9IMsj"
      },
      "source": [
        "### scikit-learn\n",
        ">Strona biblioteki: [https://scikit-learn.org](https://scikit-learn.org)  \n",
        ">\n",
        ">Dokumentacja/User Guide: [https://scikit-learn.org/stable/user_guide.html](https://scikit-learn.org/stable/user_guide.html)\n",
        ">\n",
        ">Podstawowa biblioteka do uczenia maszynowego w języku Python.\n",
        ">\n",
        ">Aby zainstalować bibliotekę scikit-learn, użyj polecenia poniżej:\n",
        "```\n",
        "pip install scikit-learn\n",
        "```\n",
        "\n",
        "### Metryki - Problem regresji:\n",
        "1. [Import bibliotek](#a0)\n",
        "2. [Interpretacja graficzna](#a2)\n",
        "3. [Mean Absolute Error - MAE - Średni błąd bezwzględny](#a3)\n",
        "4. [Mean Squared Error - MSE - Błąd średniokwadratowy](#a4)\n",
        "5. [Root Mean Squared Error - RMSE - Pierwiastek błędu średniokwadratowego](#a5)\n",
        "6. [Max Error - Błąd maksymalny](#a6)\n",
        "7. [R2 score - współczynnik determinacji](#a7)\n",
        "\n",
        "    "
      ]
    },
    {
      "cell_type": "markdown",
      "metadata": {
        "id": "1Dc4DhtS7LTD"
      },
      "source": [
        "### <a name='a0'></a>  Import bibliotek"
      ]
    },
    {
      "cell_type": "code",
      "metadata": {
        "id": "qQZ7LNIt7KAY"
      },
      "source": [
        "import numpy as np\n",
        "import pandas as pd\n",
        "import plotly.express as px\n",
        "import plotly.graph_objects as go"
      ],
      "execution_count": 4,
      "outputs": []
    },
    {
      "cell_type": "code",
      "metadata": {
        "id": "GhNVhidb7SG7",
        "outputId": "bdfa6fa9-3173-47bd-843a-575a0c8f8781",
        "colab": {
          "base_uri": "https://localhost:8080/"
        }
      },
      "source": [
        "\n",
        "# wartosci = 100, odchylenie standardowe = 20,\n",
        "y_true = 100 + 20 * np.random.randn(50)\n",
        "y_true"
      ],
      "execution_count": 13,
      "outputs": [
        {
          "output_type": "execute_result",
          "data": {
            "text/plain": [
              "array([125.3811523 , 132.84479151,  94.17514019,  72.64789   ,\n",
              "        93.39456092,  99.31765741, 106.42431633, 110.64518412,\n",
              "       109.50765913,  85.89075333, 129.03229092, 108.52523509,\n",
              "       109.97997916, 112.97274009, 136.12165641, 141.2700659 ,\n",
              "        87.06546312,  86.28222595,  87.2444297 , 100.87255678,\n",
              "       112.43852659,  79.8998623 ,  93.53764617,  96.74669104,\n",
              "       101.84661172, 124.3340282 , 129.02820486, 125.16298328,\n",
              "       122.03904582,  86.627924  , 129.31765451, 115.75229451,\n",
              "        64.80394364,  76.00088619, 114.96550146,  77.49767571,\n",
              "       103.67674647, 113.5927107 , 136.87376778, 149.5390332 ,\n",
              "       104.85141828,  89.2120048 ,  81.08798471,  98.79189918,\n",
              "        49.14650095,  93.42724806,  90.86148545,  89.55278833,\n",
              "       116.75337946, 111.69288461])"
            ]
          },
          "metadata": {},
          "execution_count": 13
        }
      ]
    },
    {
      "cell_type": "code",
      "metadata": {
        "id": "HuAJr61k7cJV",
        "outputId": "9d4044e1-b926-4b30-893b-155b169e09fa",
        "colab": {
          "base_uri": "https://localhost:8080/"
        }
      },
      "source": [
        "# dodamy pewien szum do naszych danych\n",
        "y_pred = y_true + 10 * np.random.randn(50)\n",
        "y_pred"
      ],
      "execution_count": 14,
      "outputs": [
        {
          "output_type": "execute_result",
          "data": {
            "text/plain": [
              "array([114.82802365, 134.24594419,  88.96445844,  65.67823263,\n",
              "        94.81312803, 105.84251642, 113.41937017,  96.90015493,\n",
              "       103.43862201,  79.50133099, 133.20552147, 112.17795345,\n",
              "       113.26502645, 119.74860884, 142.40406592, 137.14097395,\n",
              "        75.53959978,  92.14419468,  96.20597558,  89.05882045,\n",
              "       112.15573675,  65.69350056, 106.51641783,  96.72463087,\n",
              "        77.54834763, 134.6140117 , 138.275178  , 111.84896606,\n",
              "       122.58262493,  98.98155955, 130.49901511, 115.1180164 ,\n",
              "        54.61029594,  72.10992187, 120.63971386,  72.15441105,\n",
              "       103.67332149, 114.38958905, 148.3886451 , 145.22980585,\n",
              "        99.73806781,  86.98580392,  72.79246874, 111.88448414,\n",
              "        53.83096455, 102.38766294,  98.04622096,  77.77481778,\n",
              "       126.77985475, 101.8569436 ])"
            ]
          },
          "metadata": {},
          "execution_count": 14
        }
      ]
    },
    {
      "cell_type": "code",
      "metadata": {
        "id": "8V3ah8zL7n2P",
        "outputId": "d2bbf64c-e05d-4f20-acb8-f193f6904828",
        "colab": {
          "base_uri": "https://localhost:8080/",
          "height": 204
        }
      },
      "source": [
        "results = pd.DataFrame({'y_true': y_true, 'y_pred': y_pred})\n",
        "# metoda head() wyswietli 5 pierwszych wierszy\n",
        "results.head()"
      ],
      "execution_count": 19,
      "outputs": [
        {
          "output_type": "execute_result",
          "data": {
            "text/plain": [
              "       y_true      y_pred\n",
              "0  125.381152  114.828024\n",
              "1  132.844792  134.245944\n",
              "2   94.175140   88.964458\n",
              "3   72.647890   65.678233\n",
              "4   93.394561   94.813128"
            ],
            "text/html": [
              "\n",
              "  <div id=\"df-ab8c3294-4dfc-4fca-a0bd-5480e1d86e9b\" class=\"colab-df-container\">\n",
              "    <div>\n",
              "<style scoped>\n",
              "    .dataframe tbody tr th:only-of-type {\n",
              "        vertical-align: middle;\n",
              "    }\n",
              "\n",
              "    .dataframe tbody tr th {\n",
              "        vertical-align: top;\n",
              "    }\n",
              "\n",
              "    .dataframe thead th {\n",
              "        text-align: right;\n",
              "    }\n",
              "</style>\n",
              "<table border=\"1\" class=\"dataframe\">\n",
              "  <thead>\n",
              "    <tr style=\"text-align: right;\">\n",
              "      <th></th>\n",
              "      <th>y_true</th>\n",
              "      <th>y_pred</th>\n",
              "    </tr>\n",
              "  </thead>\n",
              "  <tbody>\n",
              "    <tr>\n",
              "      <th>0</th>\n",
              "      <td>125.381152</td>\n",
              "      <td>114.828024</td>\n",
              "    </tr>\n",
              "    <tr>\n",
              "      <th>1</th>\n",
              "      <td>132.844792</td>\n",
              "      <td>134.245944</td>\n",
              "    </tr>\n",
              "    <tr>\n",
              "      <th>2</th>\n",
              "      <td>94.175140</td>\n",
              "      <td>88.964458</td>\n",
              "    </tr>\n",
              "    <tr>\n",
              "      <th>3</th>\n",
              "      <td>72.647890</td>\n",
              "      <td>65.678233</td>\n",
              "    </tr>\n",
              "    <tr>\n",
              "      <th>4</th>\n",
              "      <td>93.394561</td>\n",
              "      <td>94.813128</td>\n",
              "    </tr>\n",
              "  </tbody>\n",
              "</table>\n",
              "</div>\n",
              "    <div class=\"colab-df-buttons\">\n",
              "\n",
              "  <div class=\"colab-df-container\">\n",
              "    <button class=\"colab-df-convert\" onclick=\"convertToInteractive('df-ab8c3294-4dfc-4fca-a0bd-5480e1d86e9b')\"\n",
              "            title=\"Convert this dataframe to an interactive table.\"\n",
              "            style=\"display:none;\">\n",
              "\n",
              "  <svg xmlns=\"http://www.w3.org/2000/svg\" height=\"24px\" viewBox=\"0 -960 960 960\">\n",
              "    <path d=\"M120-120v-720h720v720H120Zm60-500h600v-160H180v160Zm220 220h160v-160H400v160Zm0 220h160v-160H400v160ZM180-400h160v-160H180v160Zm440 0h160v-160H620v160ZM180-180h160v-160H180v160Zm440 0h160v-160H620v160Z\"/>\n",
              "  </svg>\n",
              "    </button>\n",
              "\n",
              "  <style>\n",
              "    .colab-df-container {\n",
              "      display:flex;\n",
              "      gap: 12px;\n",
              "    }\n",
              "\n",
              "    .colab-df-convert {\n",
              "      background-color: #E8F0FE;\n",
              "      border: none;\n",
              "      border-radius: 50%;\n",
              "      cursor: pointer;\n",
              "      display: none;\n",
              "      fill: #1967D2;\n",
              "      height: 32px;\n",
              "      padding: 0 0 0 0;\n",
              "      width: 32px;\n",
              "    }\n",
              "\n",
              "    .colab-df-convert:hover {\n",
              "      background-color: #E2EBFA;\n",
              "      box-shadow: 0px 1px 2px rgba(60, 64, 67, 0.3), 0px 1px 3px 1px rgba(60, 64, 67, 0.15);\n",
              "      fill: #174EA6;\n",
              "    }\n",
              "\n",
              "    .colab-df-buttons div {\n",
              "      margin-bottom: 4px;\n",
              "    }\n",
              "\n",
              "    [theme=dark] .colab-df-convert {\n",
              "      background-color: #3B4455;\n",
              "      fill: #D2E3FC;\n",
              "    }\n",
              "\n",
              "    [theme=dark] .colab-df-convert:hover {\n",
              "      background-color: #434B5C;\n",
              "      box-shadow: 0px 1px 3px 1px rgba(0, 0, 0, 0.15);\n",
              "      filter: drop-shadow(0px 1px 2px rgba(0, 0, 0, 0.3));\n",
              "      fill: #FFFFFF;\n",
              "    }\n",
              "  </style>\n",
              "\n",
              "    <script>\n",
              "      const buttonEl =\n",
              "        document.querySelector('#df-ab8c3294-4dfc-4fca-a0bd-5480e1d86e9b button.colab-df-convert');\n",
              "      buttonEl.style.display =\n",
              "        google.colab.kernel.accessAllowed ? 'block' : 'none';\n",
              "\n",
              "      async function convertToInteractive(key) {\n",
              "        const element = document.querySelector('#df-ab8c3294-4dfc-4fca-a0bd-5480e1d86e9b');\n",
              "        const dataTable =\n",
              "          await google.colab.kernel.invokeFunction('convertToInteractive',\n",
              "                                                    [key], {});\n",
              "        if (!dataTable) return;\n",
              "\n",
              "        const docLinkHtml = 'Like what you see? Visit the ' +\n",
              "          '<a target=\"_blank\" href=https://colab.research.google.com/notebooks/data_table.ipynb>data table notebook</a>'\n",
              "          + ' to learn more about interactive tables.';\n",
              "        element.innerHTML = '';\n",
              "        dataTable['output_type'] = 'display_data';\n",
              "        await google.colab.output.renderOutput(dataTable, element);\n",
              "        const docLink = document.createElement('div');\n",
              "        docLink.innerHTML = docLinkHtml;\n",
              "        element.appendChild(docLink);\n",
              "      }\n",
              "    </script>\n",
              "  </div>\n",
              "\n",
              "\n",
              "<div id=\"df-18e063e6-3e45-4b31-bebd-d3a2f1166573\">\n",
              "  <button class=\"colab-df-quickchart\" onclick=\"quickchart('df-18e063e6-3e45-4b31-bebd-d3a2f1166573')\"\n",
              "            title=\"Suggest charts\"\n",
              "            style=\"display:none;\">\n",
              "\n",
              "<svg xmlns=\"http://www.w3.org/2000/svg\" height=\"24px\"viewBox=\"0 0 24 24\"\n",
              "     width=\"24px\">\n",
              "    <g>\n",
              "        <path d=\"M19 3H5c-1.1 0-2 .9-2 2v14c0 1.1.9 2 2 2h14c1.1 0 2-.9 2-2V5c0-1.1-.9-2-2-2zM9 17H7v-7h2v7zm4 0h-2V7h2v10zm4 0h-2v-4h2v4z\"/>\n",
              "    </g>\n",
              "</svg>\n",
              "  </button>\n",
              "\n",
              "<style>\n",
              "  .colab-df-quickchart {\n",
              "      --bg-color: #E8F0FE;\n",
              "      --fill-color: #1967D2;\n",
              "      --hover-bg-color: #E2EBFA;\n",
              "      --hover-fill-color: #174EA6;\n",
              "      --disabled-fill-color: #AAA;\n",
              "      --disabled-bg-color: #DDD;\n",
              "  }\n",
              "\n",
              "  [theme=dark] .colab-df-quickchart {\n",
              "      --bg-color: #3B4455;\n",
              "      --fill-color: #D2E3FC;\n",
              "      --hover-bg-color: #434B5C;\n",
              "      --hover-fill-color: #FFFFFF;\n",
              "      --disabled-bg-color: #3B4455;\n",
              "      --disabled-fill-color: #666;\n",
              "  }\n",
              "\n",
              "  .colab-df-quickchart {\n",
              "    background-color: var(--bg-color);\n",
              "    border: none;\n",
              "    border-radius: 50%;\n",
              "    cursor: pointer;\n",
              "    display: none;\n",
              "    fill: var(--fill-color);\n",
              "    height: 32px;\n",
              "    padding: 0;\n",
              "    width: 32px;\n",
              "  }\n",
              "\n",
              "  .colab-df-quickchart:hover {\n",
              "    background-color: var(--hover-bg-color);\n",
              "    box-shadow: 0 1px 2px rgba(60, 64, 67, 0.3), 0 1px 3px 1px rgba(60, 64, 67, 0.15);\n",
              "    fill: var(--button-hover-fill-color);\n",
              "  }\n",
              "\n",
              "  .colab-df-quickchart-complete:disabled,\n",
              "  .colab-df-quickchart-complete:disabled:hover {\n",
              "    background-color: var(--disabled-bg-color);\n",
              "    fill: var(--disabled-fill-color);\n",
              "    box-shadow: none;\n",
              "  }\n",
              "\n",
              "  .colab-df-spinner {\n",
              "    border: 2px solid var(--fill-color);\n",
              "    border-color: transparent;\n",
              "    border-bottom-color: var(--fill-color);\n",
              "    animation:\n",
              "      spin 1s steps(1) infinite;\n",
              "  }\n",
              "\n",
              "  @keyframes spin {\n",
              "    0% {\n",
              "      border-color: transparent;\n",
              "      border-bottom-color: var(--fill-color);\n",
              "      border-left-color: var(--fill-color);\n",
              "    }\n",
              "    20% {\n",
              "      border-color: transparent;\n",
              "      border-left-color: var(--fill-color);\n",
              "      border-top-color: var(--fill-color);\n",
              "    }\n",
              "    30% {\n",
              "      border-color: transparent;\n",
              "      border-left-color: var(--fill-color);\n",
              "      border-top-color: var(--fill-color);\n",
              "      border-right-color: var(--fill-color);\n",
              "    }\n",
              "    40% {\n",
              "      border-color: transparent;\n",
              "      border-right-color: var(--fill-color);\n",
              "      border-top-color: var(--fill-color);\n",
              "    }\n",
              "    60% {\n",
              "      border-color: transparent;\n",
              "      border-right-color: var(--fill-color);\n",
              "    }\n",
              "    80% {\n",
              "      border-color: transparent;\n",
              "      border-right-color: var(--fill-color);\n",
              "      border-bottom-color: var(--fill-color);\n",
              "    }\n",
              "    90% {\n",
              "      border-color: transparent;\n",
              "      border-bottom-color: var(--fill-color);\n",
              "    }\n",
              "  }\n",
              "</style>\n",
              "\n",
              "  <script>\n",
              "    async function quickchart(key) {\n",
              "      const quickchartButtonEl =\n",
              "        document.querySelector('#' + key + ' button');\n",
              "      quickchartButtonEl.disabled = true;  // To prevent multiple clicks.\n",
              "      quickchartButtonEl.classList.add('colab-df-spinner');\n",
              "      try {\n",
              "        const charts = await google.colab.kernel.invokeFunction(\n",
              "            'suggestCharts', [key], {});\n",
              "      } catch (error) {\n",
              "        console.error('Error during call to suggestCharts:', error);\n",
              "      }\n",
              "      quickchartButtonEl.classList.remove('colab-df-spinner');\n",
              "      quickchartButtonEl.classList.add('colab-df-quickchart-complete');\n",
              "    }\n",
              "    (() => {\n",
              "      let quickchartButtonEl =\n",
              "        document.querySelector('#df-18e063e6-3e45-4b31-bebd-d3a2f1166573 button');\n",
              "      quickchartButtonEl.style.display =\n",
              "        google.colab.kernel.accessAllowed ? 'block' : 'none';\n",
              "    })();\n",
              "  </script>\n",
              "</div>\n",
              "\n",
              "    </div>\n",
              "  </div>\n"
            ],
            "application/vnd.google.colaboratory.intrinsic+json": {
              "type": "dataframe",
              "variable_name": "results",
              "summary": "{\n  \"name\": \"results\",\n  \"rows\": 50,\n  \"fields\": [\n    {\n      \"column\": \"y_true\",\n      \"properties\": {\n        \"dtype\": \"number\",\n        \"std\": 20.987350691522632,\n        \"min\": 49.146500950748305,\n        \"max\": 149.53903320450414,\n        \"num_unique_values\": 50,\n        \"samples\": [\n          112.97274009356406,\n          149.53903320450414,\n          129.3176545125014\n        ],\n        \"semantic_type\": \"\",\n        \"description\": \"\"\n      }\n    },\n    {\n      \"column\": \"y_pred\",\n      \"properties\": {\n        \"dtype\": \"number\",\n        \"std\": 23.865146668757696,\n        \"min\": 53.8309645527154,\n        \"max\": 148.38864510209166,\n        \"num_unique_values\": 50,\n        \"samples\": [\n          119.74860884421756,\n          145.22980585433825,\n          130.49901510979143\n        ],\n        \"semantic_type\": \"\",\n        \"description\": \"\"\n      }\n    }\n  ]\n}"
            }
          },
          "metadata": {},
          "execution_count": 19
        }
      ]
    },
    {
      "cell_type": "code",
      "metadata": {
        "id": "SPMt-m1e78VI",
        "outputId": "3bdde1aa-6048-4411-ef6c-a024b0f042d0",
        "colab": {
          "base_uri": "https://localhost:8080/",
          "height": 204
        }
      },
      "source": [
        "# pokazemy roznice wartosci prawdziwej do tej przypisanej przez model\n",
        "results['error'] = results['y_true'] - results['y_pred']\n",
        "results.head()"
      ],
      "execution_count": 21,
      "outputs": [
        {
          "output_type": "execute_result",
          "data": {
            "text/plain": [
              "       y_true      y_pred      error\n",
              "0  125.381152  114.828024  10.553129\n",
              "1  132.844792  134.245944  -1.401153\n",
              "2   94.175140   88.964458   5.210682\n",
              "3   72.647890   65.678233   6.969657\n",
              "4   93.394561   94.813128  -1.418567"
            ],
            "text/html": [
              "\n",
              "  <div id=\"df-07c18e44-7bf4-44da-95e1-f0ed6f07726d\" class=\"colab-df-container\">\n",
              "    <div>\n",
              "<style scoped>\n",
              "    .dataframe tbody tr th:only-of-type {\n",
              "        vertical-align: middle;\n",
              "    }\n",
              "\n",
              "    .dataframe tbody tr th {\n",
              "        vertical-align: top;\n",
              "    }\n",
              "\n",
              "    .dataframe thead th {\n",
              "        text-align: right;\n",
              "    }\n",
              "</style>\n",
              "<table border=\"1\" class=\"dataframe\">\n",
              "  <thead>\n",
              "    <tr style=\"text-align: right;\">\n",
              "      <th></th>\n",
              "      <th>y_true</th>\n",
              "      <th>y_pred</th>\n",
              "      <th>error</th>\n",
              "    </tr>\n",
              "  </thead>\n",
              "  <tbody>\n",
              "    <tr>\n",
              "      <th>0</th>\n",
              "      <td>125.381152</td>\n",
              "      <td>114.828024</td>\n",
              "      <td>10.553129</td>\n",
              "    </tr>\n",
              "    <tr>\n",
              "      <th>1</th>\n",
              "      <td>132.844792</td>\n",
              "      <td>134.245944</td>\n",
              "      <td>-1.401153</td>\n",
              "    </tr>\n",
              "    <tr>\n",
              "      <th>2</th>\n",
              "      <td>94.175140</td>\n",
              "      <td>88.964458</td>\n",
              "      <td>5.210682</td>\n",
              "    </tr>\n",
              "    <tr>\n",
              "      <th>3</th>\n",
              "      <td>72.647890</td>\n",
              "      <td>65.678233</td>\n",
              "      <td>6.969657</td>\n",
              "    </tr>\n",
              "    <tr>\n",
              "      <th>4</th>\n",
              "      <td>93.394561</td>\n",
              "      <td>94.813128</td>\n",
              "      <td>-1.418567</td>\n",
              "    </tr>\n",
              "  </tbody>\n",
              "</table>\n",
              "</div>\n",
              "    <div class=\"colab-df-buttons\">\n",
              "\n",
              "  <div class=\"colab-df-container\">\n",
              "    <button class=\"colab-df-convert\" onclick=\"convertToInteractive('df-07c18e44-7bf4-44da-95e1-f0ed6f07726d')\"\n",
              "            title=\"Convert this dataframe to an interactive table.\"\n",
              "            style=\"display:none;\">\n",
              "\n",
              "  <svg xmlns=\"http://www.w3.org/2000/svg\" height=\"24px\" viewBox=\"0 -960 960 960\">\n",
              "    <path d=\"M120-120v-720h720v720H120Zm60-500h600v-160H180v160Zm220 220h160v-160H400v160Zm0 220h160v-160H400v160ZM180-400h160v-160H180v160Zm440 0h160v-160H620v160ZM180-180h160v-160H180v160Zm440 0h160v-160H620v160Z\"/>\n",
              "  </svg>\n",
              "    </button>\n",
              "\n",
              "  <style>\n",
              "    .colab-df-container {\n",
              "      display:flex;\n",
              "      gap: 12px;\n",
              "    }\n",
              "\n",
              "    .colab-df-convert {\n",
              "      background-color: #E8F0FE;\n",
              "      border: none;\n",
              "      border-radius: 50%;\n",
              "      cursor: pointer;\n",
              "      display: none;\n",
              "      fill: #1967D2;\n",
              "      height: 32px;\n",
              "      padding: 0 0 0 0;\n",
              "      width: 32px;\n",
              "    }\n",
              "\n",
              "    .colab-df-convert:hover {\n",
              "      background-color: #E2EBFA;\n",
              "      box-shadow: 0px 1px 2px rgba(60, 64, 67, 0.3), 0px 1px 3px 1px rgba(60, 64, 67, 0.15);\n",
              "      fill: #174EA6;\n",
              "    }\n",
              "\n",
              "    .colab-df-buttons div {\n",
              "      margin-bottom: 4px;\n",
              "    }\n",
              "\n",
              "    [theme=dark] .colab-df-convert {\n",
              "      background-color: #3B4455;\n",
              "      fill: #D2E3FC;\n",
              "    }\n",
              "\n",
              "    [theme=dark] .colab-df-convert:hover {\n",
              "      background-color: #434B5C;\n",
              "      box-shadow: 0px 1px 3px 1px rgba(0, 0, 0, 0.15);\n",
              "      filter: drop-shadow(0px 1px 2px rgba(0, 0, 0, 0.3));\n",
              "      fill: #FFFFFF;\n",
              "    }\n",
              "  </style>\n",
              "\n",
              "    <script>\n",
              "      const buttonEl =\n",
              "        document.querySelector('#df-07c18e44-7bf4-44da-95e1-f0ed6f07726d button.colab-df-convert');\n",
              "      buttonEl.style.display =\n",
              "        google.colab.kernel.accessAllowed ? 'block' : 'none';\n",
              "\n",
              "      async function convertToInteractive(key) {\n",
              "        const element = document.querySelector('#df-07c18e44-7bf4-44da-95e1-f0ed6f07726d');\n",
              "        const dataTable =\n",
              "          await google.colab.kernel.invokeFunction('convertToInteractive',\n",
              "                                                    [key], {});\n",
              "        if (!dataTable) return;\n",
              "\n",
              "        const docLinkHtml = 'Like what you see? Visit the ' +\n",
              "          '<a target=\"_blank\" href=https://colab.research.google.com/notebooks/data_table.ipynb>data table notebook</a>'\n",
              "          + ' to learn more about interactive tables.';\n",
              "        element.innerHTML = '';\n",
              "        dataTable['output_type'] = 'display_data';\n",
              "        await google.colab.output.renderOutput(dataTable, element);\n",
              "        const docLink = document.createElement('div');\n",
              "        docLink.innerHTML = docLinkHtml;\n",
              "        element.appendChild(docLink);\n",
              "      }\n",
              "    </script>\n",
              "  </div>\n",
              "\n",
              "\n",
              "<div id=\"df-e6e5aa41-5100-4053-9b41-8cad213f93d4\">\n",
              "  <button class=\"colab-df-quickchart\" onclick=\"quickchart('df-e6e5aa41-5100-4053-9b41-8cad213f93d4')\"\n",
              "            title=\"Suggest charts\"\n",
              "            style=\"display:none;\">\n",
              "\n",
              "<svg xmlns=\"http://www.w3.org/2000/svg\" height=\"24px\"viewBox=\"0 0 24 24\"\n",
              "     width=\"24px\">\n",
              "    <g>\n",
              "        <path d=\"M19 3H5c-1.1 0-2 .9-2 2v14c0 1.1.9 2 2 2h14c1.1 0 2-.9 2-2V5c0-1.1-.9-2-2-2zM9 17H7v-7h2v7zm4 0h-2V7h2v10zm4 0h-2v-4h2v4z\"/>\n",
              "    </g>\n",
              "</svg>\n",
              "  </button>\n",
              "\n",
              "<style>\n",
              "  .colab-df-quickchart {\n",
              "      --bg-color: #E8F0FE;\n",
              "      --fill-color: #1967D2;\n",
              "      --hover-bg-color: #E2EBFA;\n",
              "      --hover-fill-color: #174EA6;\n",
              "      --disabled-fill-color: #AAA;\n",
              "      --disabled-bg-color: #DDD;\n",
              "  }\n",
              "\n",
              "  [theme=dark] .colab-df-quickchart {\n",
              "      --bg-color: #3B4455;\n",
              "      --fill-color: #D2E3FC;\n",
              "      --hover-bg-color: #434B5C;\n",
              "      --hover-fill-color: #FFFFFF;\n",
              "      --disabled-bg-color: #3B4455;\n",
              "      --disabled-fill-color: #666;\n",
              "  }\n",
              "\n",
              "  .colab-df-quickchart {\n",
              "    background-color: var(--bg-color);\n",
              "    border: none;\n",
              "    border-radius: 50%;\n",
              "    cursor: pointer;\n",
              "    display: none;\n",
              "    fill: var(--fill-color);\n",
              "    height: 32px;\n",
              "    padding: 0;\n",
              "    width: 32px;\n",
              "  }\n",
              "\n",
              "  .colab-df-quickchart:hover {\n",
              "    background-color: var(--hover-bg-color);\n",
              "    box-shadow: 0 1px 2px rgba(60, 64, 67, 0.3), 0 1px 3px 1px rgba(60, 64, 67, 0.15);\n",
              "    fill: var(--button-hover-fill-color);\n",
              "  }\n",
              "\n",
              "  .colab-df-quickchart-complete:disabled,\n",
              "  .colab-df-quickchart-complete:disabled:hover {\n",
              "    background-color: var(--disabled-bg-color);\n",
              "    fill: var(--disabled-fill-color);\n",
              "    box-shadow: none;\n",
              "  }\n",
              "\n",
              "  .colab-df-spinner {\n",
              "    border: 2px solid var(--fill-color);\n",
              "    border-color: transparent;\n",
              "    border-bottom-color: var(--fill-color);\n",
              "    animation:\n",
              "      spin 1s steps(1) infinite;\n",
              "  }\n",
              "\n",
              "  @keyframes spin {\n",
              "    0% {\n",
              "      border-color: transparent;\n",
              "      border-bottom-color: var(--fill-color);\n",
              "      border-left-color: var(--fill-color);\n",
              "    }\n",
              "    20% {\n",
              "      border-color: transparent;\n",
              "      border-left-color: var(--fill-color);\n",
              "      border-top-color: var(--fill-color);\n",
              "    }\n",
              "    30% {\n",
              "      border-color: transparent;\n",
              "      border-left-color: var(--fill-color);\n",
              "      border-top-color: var(--fill-color);\n",
              "      border-right-color: var(--fill-color);\n",
              "    }\n",
              "    40% {\n",
              "      border-color: transparent;\n",
              "      border-right-color: var(--fill-color);\n",
              "      border-top-color: var(--fill-color);\n",
              "    }\n",
              "    60% {\n",
              "      border-color: transparent;\n",
              "      border-right-color: var(--fill-color);\n",
              "    }\n",
              "    80% {\n",
              "      border-color: transparent;\n",
              "      border-right-color: var(--fill-color);\n",
              "      border-bottom-color: var(--fill-color);\n",
              "    }\n",
              "    90% {\n",
              "      border-color: transparent;\n",
              "      border-bottom-color: var(--fill-color);\n",
              "    }\n",
              "  }\n",
              "</style>\n",
              "\n",
              "  <script>\n",
              "    async function quickchart(key) {\n",
              "      const quickchartButtonEl =\n",
              "        document.querySelector('#' + key + ' button');\n",
              "      quickchartButtonEl.disabled = true;  // To prevent multiple clicks.\n",
              "      quickchartButtonEl.classList.add('colab-df-spinner');\n",
              "      try {\n",
              "        const charts = await google.colab.kernel.invokeFunction(\n",
              "            'suggestCharts', [key], {});\n",
              "      } catch (error) {\n",
              "        console.error('Error during call to suggestCharts:', error);\n",
              "      }\n",
              "      quickchartButtonEl.classList.remove('colab-df-spinner');\n",
              "      quickchartButtonEl.classList.add('colab-df-quickchart-complete');\n",
              "    }\n",
              "    (() => {\n",
              "      let quickchartButtonEl =\n",
              "        document.querySelector('#df-e6e5aa41-5100-4053-9b41-8cad213f93d4 button');\n",
              "      quickchartButtonEl.style.display =\n",
              "        google.colab.kernel.accessAllowed ? 'block' : 'none';\n",
              "    })();\n",
              "  </script>\n",
              "</div>\n",
              "\n",
              "    </div>\n",
              "  </div>\n"
            ],
            "application/vnd.google.colaboratory.intrinsic+json": {
              "type": "dataframe",
              "variable_name": "results",
              "summary": "{\n  \"name\": \"results\",\n  \"rows\": 50,\n  \"fields\": [\n    {\n      \"column\": \"y_true\",\n      \"properties\": {\n        \"dtype\": \"number\",\n        \"std\": 20.987350691522632,\n        \"min\": 49.146500950748305,\n        \"max\": 149.53903320450414,\n        \"num_unique_values\": 50,\n        \"samples\": [\n          112.97274009356406,\n          149.53903320450414,\n          129.3176545125014\n        ],\n        \"semantic_type\": \"\",\n        \"description\": \"\"\n      }\n    },\n    {\n      \"column\": \"y_pred\",\n      \"properties\": {\n        \"dtype\": \"number\",\n        \"std\": 23.865146668757696,\n        \"min\": 53.8309645527154,\n        \"max\": 148.38864510209166,\n        \"num_unique_values\": 50,\n        \"samples\": [\n          119.74860884421756,\n          145.22980585433825,\n          130.49901510979143\n        ],\n        \"semantic_type\": \"\",\n        \"description\": \"\"\n      }\n    },\n    {\n      \"column\": \"error\",\n      \"properties\": {\n        \"dtype\": \"number\",\n        \"std\": 8.622553487174219,\n        \"min\": -13.092584966213124,\n        \"max\": 24.298264087366846,\n        \"num_unique_values\": 50,\n        \"samples\": [\n          -6.775868750653501,\n          4.309227350165884,\n          -1.1813605972900234\n        ],\n        \"semantic_type\": \"\",\n        \"description\": \"\"\n      }\n    }\n  ]\n}"
            }
          },
          "metadata": {},
          "execution_count": 21
        }
      ]
    },
    {
      "cell_type": "markdown",
      "metadata": {
        "id": "JkXYHzBlCrXB"
      },
      "source": [
        "\n",
        "### <a name='a2'></a> Interpretacja graficzna"
      ]
    },
    {
      "cell_type": "code",
      "metadata": {
        "id": "aFdc5zl6_bih",
        "outputId": "3a4ac47f-5c12-4ac0-d22f-d8936a9fd9b4",
        "colab": {
          "base_uri": "https://localhost:8080/",
          "height": 517
        }
      },
      "source": [
        "def plot_regression_results(y_true, y_pred):\n",
        "    results = pd.DataFrame({'y_true': y_true, 'y_pred': y_pred})\n",
        "    # min i max zeby zlapac najmniejsze i najwieksze wartosci\n",
        "    min = results[['y_true', 'y_pred']].min().min()\n",
        "    max = results[['y_true', 'y_pred']].max().max()\n",
        "\n",
        "    fig = go.Figure(data=[go.Scatter(x=results['y_true'], y=results['y_pred'], mode='markers'),\n",
        "                    go.Scatter(x=[min, max], y=[min, max])],\n",
        "                    layout=go.Layout(showlegend=False, width=800, height=500,\n",
        "                                     xaxis_title='y_true',\n",
        "                                     yaxis_title='y_pred',\n",
        "                                     title='Regression results'))\n",
        "    fig.show()\n",
        "plot_regression_results(y_true, y_pred)"
      ],
      "execution_count": 23,
      "outputs": [
        {
          "output_type": "display_data",
          "data": {
            "text/html": [
              "<html>\n",
              "<head><meta charset=\"utf-8\" /></head>\n",
              "<body>\n",
              "    <div>            <script src=\"https://cdnjs.cloudflare.com/ajax/libs/mathjax/2.7.5/MathJax.js?config=TeX-AMS-MML_SVG\"></script><script type=\"text/javascript\">if (window.MathJax && window.MathJax.Hub && window.MathJax.Hub.Config) {window.MathJax.Hub.Config({SVG: {font: \"STIX-Web\"}});}</script>                <script type=\"text/javascript\">window.PlotlyConfig = {MathJaxConfig: 'local'};</script>\n",
              "        <script charset=\"utf-8\" src=\"https://cdn.plot.ly/plotly-2.35.2.min.js\"></script>                <div id=\"76c70022-c236-4229-8f52-83f1281486ee\" class=\"plotly-graph-div\" style=\"height:500px; width:800px;\"></div>            <script type=\"text/javascript\">                                    window.PLOTLYENV=window.PLOTLYENV || {};                                    if (document.getElementById(\"76c70022-c236-4229-8f52-83f1281486ee\")) {                    Plotly.newPlot(                        \"76c70022-c236-4229-8f52-83f1281486ee\",                        [{\"mode\":\"markers\",\"x\":[125.38115230242443,132.84479151113615,94.1751401927657,72.64788999858955,93.39456092417299,99.31765740855776,106.4243163293508,110.6451841173387,109.50765912819895,85.89075333308031,129.0322909206649,108.52523508661878,109.9799791622229,112.97274009356406,136.12165640579678,141.2700659019074,87.0654631233691,86.28222595422274,87.24442969664592,100.87255678318192,112.43852659449219,79.89986230392056,93.53764617169968,96.74669104009521,101.84661171831299,124.33402820495023,129.02820485868125,125.16298328200202,122.03904582210633,86.6279240009968,129.3176545125014,115.75229450936361,64.80394363605525,76.00088619014139,114.96550145959188,77.49767570671395,103.67674647094778,113.59271069570462,136.8737677783105,149.53903320450414,104.85141827601076,89.21200480075414,81.08798471126585,98.79189917867784,49.146500950748305,93.4272480629794,90.8614854463533,89.55278832990707,116.75337945938888,111.69288461058301],\"y\":[114.8280236534327,134.24594419425574,88.96445843602537,65.67823262794113,94.81312803450969,105.84251641568439,113.41937016680482,96.90015493290088,103.43862200920032,79.50133098958145,133.20552147461638,112.17795344540245,113.26502645460879,119.74860884421756,142.40406591949318,137.14097394803397,75.53959977700421,92.14419468367237,96.20597558275679,89.05882044636266,112.15573675106423,65.69350055939182,106.51641783295891,96.72463087112868,77.54834763094614,134.6140116955275,138.27517800083382,111.84896605828581,122.58262493382512,98.98155954541737,130.49901510979143,115.11801639661248,54.61029594234251,72.10992187017688,120.63971385515917,72.1544110539008,103.67332149234582,114.38958904753133,148.38864510209166,145.22980585433825,99.73806781085868,86.9858039231017,72.7924687401077,111.88448414489096,53.8309645527154,102.38766294348733,98.04622096421177,77.77481778157289,126.77985474943718,101.85694360464198],\"type\":\"scatter\"},{\"x\":[49.146500950748305,149.53903320450414],\"y\":[49.146500950748305,149.53903320450414],\"type\":\"scatter\"}],                        {\"height\":500,\"showlegend\":false,\"title\":{\"text\":\"Regression results\"},\"width\":800,\"xaxis\":{\"title\":{\"text\":\"y_true\"}},\"yaxis\":{\"title\":{\"text\":\"y_pred\"}},\"template\":{\"data\":{\"histogram2dcontour\":[{\"type\":\"histogram2dcontour\",\"colorbar\":{\"outlinewidth\":0,\"ticks\":\"\"},\"colorscale\":[[0.0,\"#0d0887\"],[0.1111111111111111,\"#46039f\"],[0.2222222222222222,\"#7201a8\"],[0.3333333333333333,\"#9c179e\"],[0.4444444444444444,\"#bd3786\"],[0.5555555555555556,\"#d8576b\"],[0.6666666666666666,\"#ed7953\"],[0.7777777777777778,\"#fb9f3a\"],[0.8888888888888888,\"#fdca26\"],[1.0,\"#f0f921\"]]}],\"choropleth\":[{\"type\":\"choropleth\",\"colorbar\":{\"outlinewidth\":0,\"ticks\":\"\"}}],\"histogram2d\":[{\"type\":\"histogram2d\",\"colorbar\":{\"outlinewidth\":0,\"ticks\":\"\"},\"colorscale\":[[0.0,\"#0d0887\"],[0.1111111111111111,\"#46039f\"],[0.2222222222222222,\"#7201a8\"],[0.3333333333333333,\"#9c179e\"],[0.4444444444444444,\"#bd3786\"],[0.5555555555555556,\"#d8576b\"],[0.6666666666666666,\"#ed7953\"],[0.7777777777777778,\"#fb9f3a\"],[0.8888888888888888,\"#fdca26\"],[1.0,\"#f0f921\"]]}],\"heatmap\":[{\"type\":\"heatmap\",\"colorbar\":{\"outlinewidth\":0,\"ticks\":\"\"},\"colorscale\":[[0.0,\"#0d0887\"],[0.1111111111111111,\"#46039f\"],[0.2222222222222222,\"#7201a8\"],[0.3333333333333333,\"#9c179e\"],[0.4444444444444444,\"#bd3786\"],[0.5555555555555556,\"#d8576b\"],[0.6666666666666666,\"#ed7953\"],[0.7777777777777778,\"#fb9f3a\"],[0.8888888888888888,\"#fdca26\"],[1.0,\"#f0f921\"]]}],\"heatmapgl\":[{\"type\":\"heatmapgl\",\"colorbar\":{\"outlinewidth\":0,\"ticks\":\"\"},\"colorscale\":[[0.0,\"#0d0887\"],[0.1111111111111111,\"#46039f\"],[0.2222222222222222,\"#7201a8\"],[0.3333333333333333,\"#9c179e\"],[0.4444444444444444,\"#bd3786\"],[0.5555555555555556,\"#d8576b\"],[0.6666666666666666,\"#ed7953\"],[0.7777777777777778,\"#fb9f3a\"],[0.8888888888888888,\"#fdca26\"],[1.0,\"#f0f921\"]]}],\"contourcarpet\":[{\"type\":\"contourcarpet\",\"colorbar\":{\"outlinewidth\":0,\"ticks\":\"\"}}],\"contour\":[{\"type\":\"contour\",\"colorbar\":{\"outlinewidth\":0,\"ticks\":\"\"},\"colorscale\":[[0.0,\"#0d0887\"],[0.1111111111111111,\"#46039f\"],[0.2222222222222222,\"#7201a8\"],[0.3333333333333333,\"#9c179e\"],[0.4444444444444444,\"#bd3786\"],[0.5555555555555556,\"#d8576b\"],[0.6666666666666666,\"#ed7953\"],[0.7777777777777778,\"#fb9f3a\"],[0.8888888888888888,\"#fdca26\"],[1.0,\"#f0f921\"]]}],\"surface\":[{\"type\":\"surface\",\"colorbar\":{\"outlinewidth\":0,\"ticks\":\"\"},\"colorscale\":[[0.0,\"#0d0887\"],[0.1111111111111111,\"#46039f\"],[0.2222222222222222,\"#7201a8\"],[0.3333333333333333,\"#9c179e\"],[0.4444444444444444,\"#bd3786\"],[0.5555555555555556,\"#d8576b\"],[0.6666666666666666,\"#ed7953\"],[0.7777777777777778,\"#fb9f3a\"],[0.8888888888888888,\"#fdca26\"],[1.0,\"#f0f921\"]]}],\"mesh3d\":[{\"type\":\"mesh3d\",\"colorbar\":{\"outlinewidth\":0,\"ticks\":\"\"}}],\"scatter\":[{\"fillpattern\":{\"fillmode\":\"overlay\",\"size\":10,\"solidity\":0.2},\"type\":\"scatter\"}],\"parcoords\":[{\"type\":\"parcoords\",\"line\":{\"colorbar\":{\"outlinewidth\":0,\"ticks\":\"\"}}}],\"scatterpolargl\":[{\"type\":\"scatterpolargl\",\"marker\":{\"colorbar\":{\"outlinewidth\":0,\"ticks\":\"\"}}}],\"bar\":[{\"error_x\":{\"color\":\"#2a3f5f\"},\"error_y\":{\"color\":\"#2a3f5f\"},\"marker\":{\"line\":{\"color\":\"#E5ECF6\",\"width\":0.5},\"pattern\":{\"fillmode\":\"overlay\",\"size\":10,\"solidity\":0.2}},\"type\":\"bar\"}],\"scattergeo\":[{\"type\":\"scattergeo\",\"marker\":{\"colorbar\":{\"outlinewidth\":0,\"ticks\":\"\"}}}],\"scatterpolar\":[{\"type\":\"scatterpolar\",\"marker\":{\"colorbar\":{\"outlinewidth\":0,\"ticks\":\"\"}}}],\"histogram\":[{\"marker\":{\"pattern\":{\"fillmode\":\"overlay\",\"size\":10,\"solidity\":0.2}},\"type\":\"histogram\"}],\"scattergl\":[{\"type\":\"scattergl\",\"marker\":{\"colorbar\":{\"outlinewidth\":0,\"ticks\":\"\"}}}],\"scatter3d\":[{\"type\":\"scatter3d\",\"line\":{\"colorbar\":{\"outlinewidth\":0,\"ticks\":\"\"}},\"marker\":{\"colorbar\":{\"outlinewidth\":0,\"ticks\":\"\"}}}],\"scattermapbox\":[{\"type\":\"scattermapbox\",\"marker\":{\"colorbar\":{\"outlinewidth\":0,\"ticks\":\"\"}}}],\"scatterternary\":[{\"type\":\"scatterternary\",\"marker\":{\"colorbar\":{\"outlinewidth\":0,\"ticks\":\"\"}}}],\"scattercarpet\":[{\"type\":\"scattercarpet\",\"marker\":{\"colorbar\":{\"outlinewidth\":0,\"ticks\":\"\"}}}],\"carpet\":[{\"aaxis\":{\"endlinecolor\":\"#2a3f5f\",\"gridcolor\":\"white\",\"linecolor\":\"white\",\"minorgridcolor\":\"white\",\"startlinecolor\":\"#2a3f5f\"},\"baxis\":{\"endlinecolor\":\"#2a3f5f\",\"gridcolor\":\"white\",\"linecolor\":\"white\",\"minorgridcolor\":\"white\",\"startlinecolor\":\"#2a3f5f\"},\"type\":\"carpet\"}],\"table\":[{\"cells\":{\"fill\":{\"color\":\"#EBF0F8\"},\"line\":{\"color\":\"white\"}},\"header\":{\"fill\":{\"color\":\"#C8D4E3\"},\"line\":{\"color\":\"white\"}},\"type\":\"table\"}],\"barpolar\":[{\"marker\":{\"line\":{\"color\":\"#E5ECF6\",\"width\":0.5},\"pattern\":{\"fillmode\":\"overlay\",\"size\":10,\"solidity\":0.2}},\"type\":\"barpolar\"}],\"pie\":[{\"automargin\":true,\"type\":\"pie\"}]},\"layout\":{\"autotypenumbers\":\"strict\",\"colorway\":[\"#636efa\",\"#EF553B\",\"#00cc96\",\"#ab63fa\",\"#FFA15A\",\"#19d3f3\",\"#FF6692\",\"#B6E880\",\"#FF97FF\",\"#FECB52\"],\"font\":{\"color\":\"#2a3f5f\"},\"hovermode\":\"closest\",\"hoverlabel\":{\"align\":\"left\"},\"paper_bgcolor\":\"white\",\"plot_bgcolor\":\"#E5ECF6\",\"polar\":{\"bgcolor\":\"#E5ECF6\",\"angularaxis\":{\"gridcolor\":\"white\",\"linecolor\":\"white\",\"ticks\":\"\"},\"radialaxis\":{\"gridcolor\":\"white\",\"linecolor\":\"white\",\"ticks\":\"\"}},\"ternary\":{\"bgcolor\":\"#E5ECF6\",\"aaxis\":{\"gridcolor\":\"white\",\"linecolor\":\"white\",\"ticks\":\"\"},\"baxis\":{\"gridcolor\":\"white\",\"linecolor\":\"white\",\"ticks\":\"\"},\"caxis\":{\"gridcolor\":\"white\",\"linecolor\":\"white\",\"ticks\":\"\"}},\"coloraxis\":{\"colorbar\":{\"outlinewidth\":0,\"ticks\":\"\"}},\"colorscale\":{\"sequential\":[[0.0,\"#0d0887\"],[0.1111111111111111,\"#46039f\"],[0.2222222222222222,\"#7201a8\"],[0.3333333333333333,\"#9c179e\"],[0.4444444444444444,\"#bd3786\"],[0.5555555555555556,\"#d8576b\"],[0.6666666666666666,\"#ed7953\"],[0.7777777777777778,\"#fb9f3a\"],[0.8888888888888888,\"#fdca26\"],[1.0,\"#f0f921\"]],\"sequentialminus\":[[0.0,\"#0d0887\"],[0.1111111111111111,\"#46039f\"],[0.2222222222222222,\"#7201a8\"],[0.3333333333333333,\"#9c179e\"],[0.4444444444444444,\"#bd3786\"],[0.5555555555555556,\"#d8576b\"],[0.6666666666666666,\"#ed7953\"],[0.7777777777777778,\"#fb9f3a\"],[0.8888888888888888,\"#fdca26\"],[1.0,\"#f0f921\"]],\"diverging\":[[0,\"#8e0152\"],[0.1,\"#c51b7d\"],[0.2,\"#de77ae\"],[0.3,\"#f1b6da\"],[0.4,\"#fde0ef\"],[0.5,\"#f7f7f7\"],[0.6,\"#e6f5d0\"],[0.7,\"#b8e186\"],[0.8,\"#7fbc41\"],[0.9,\"#4d9221\"],[1,\"#276419\"]]},\"xaxis\":{\"gridcolor\":\"white\",\"linecolor\":\"white\",\"ticks\":\"\",\"title\":{\"standoff\":15},\"zerolinecolor\":\"white\",\"automargin\":true,\"zerolinewidth\":2},\"yaxis\":{\"gridcolor\":\"white\",\"linecolor\":\"white\",\"ticks\":\"\",\"title\":{\"standoff\":15},\"zerolinecolor\":\"white\",\"automargin\":true,\"zerolinewidth\":2},\"scene\":{\"xaxis\":{\"backgroundcolor\":\"#E5ECF6\",\"gridcolor\":\"white\",\"linecolor\":\"white\",\"showbackground\":true,\"ticks\":\"\",\"zerolinecolor\":\"white\",\"gridwidth\":2},\"yaxis\":{\"backgroundcolor\":\"#E5ECF6\",\"gridcolor\":\"white\",\"linecolor\":\"white\",\"showbackground\":true,\"ticks\":\"\",\"zerolinecolor\":\"white\",\"gridwidth\":2},\"zaxis\":{\"backgroundcolor\":\"#E5ECF6\",\"gridcolor\":\"white\",\"linecolor\":\"white\",\"showbackground\":true,\"ticks\":\"\",\"zerolinecolor\":\"white\",\"gridwidth\":2}},\"shapedefaults\":{\"line\":{\"color\":\"#2a3f5f\"}},\"annotationdefaults\":{\"arrowcolor\":\"#2a3f5f\",\"arrowhead\":0,\"arrowwidth\":1},\"geo\":{\"bgcolor\":\"white\",\"landcolor\":\"#E5ECF6\",\"subunitcolor\":\"white\",\"showland\":true,\"showlakes\":true,\"lakecolor\":\"white\"},\"title\":{\"x\":0.05},\"mapbox\":{\"style\":\"light\"}}}},                        {\"responsive\": true}                    ).then(function(){\n",
              "                            \n",
              "var gd = document.getElementById('76c70022-c236-4229-8f52-83f1281486ee');\n",
              "var x = new MutationObserver(function (mutations, observer) {{\n",
              "        var display = window.getComputedStyle(gd).display;\n",
              "        if (!display || display === 'none') {{\n",
              "            console.log([gd, 'removed!']);\n",
              "            Plotly.purge(gd);\n",
              "            observer.disconnect();\n",
              "        }}\n",
              "}});\n",
              "\n",
              "// Listen for the removal of the full notebook cells\n",
              "var notebookContainer = gd.closest('#notebook-container');\n",
              "if (notebookContainer) {{\n",
              "    x.observe(notebookContainer, {childList: true});\n",
              "}}\n",
              "\n",
              "// Listen for the clearing of the current output cell\n",
              "var outputEl = gd.closest('.output');\n",
              "if (outputEl) {{\n",
              "    x.observe(outputEl, {childList: true});\n",
              "}}\n",
              "\n",
              "                        })                };                            </script>        </div>\n",
              "</body>\n",
              "</html>"
            ]
          },
          "metadata": {}
        }
      ]
    },
    {
      "cell_type": "code",
      "metadata": {
        "id": "2j7Zs1XLDGCL",
        "outputId": "3ae93258-4f1a-4eae-afe3-60e4fd33493a",
        "colab": {
          "base_uri": "https://localhost:8080/",
          "height": 542
        }
      },
      "source": [
        "y_true = 100 + 20 * np.random.randn(1000)\n",
        "y_pred = y_true + 10 * np.random.randn(1000)\n",
        "results = pd.DataFrame({'y_true': y_true, 'y_pred': y_pred})\n",
        "results['error'] = results['y_true'] - results['y_pred']\n",
        "\n",
        "px.histogram(results, x='error', nbins=50, width=800)\n",
        "# im wiecej po prawej stronie krzywej to nasz model przeszacowuje wartosci\n",
        "# najlepiej jak rozklad bedzie symetryczny"
      ],
      "execution_count": 25,
      "outputs": [
        {
          "output_type": "display_data",
          "data": {
            "text/html": [
              "<html>\n",
              "<head><meta charset=\"utf-8\" /></head>\n",
              "<body>\n",
              "    <div>            <script src=\"https://cdnjs.cloudflare.com/ajax/libs/mathjax/2.7.5/MathJax.js?config=TeX-AMS-MML_SVG\"></script><script type=\"text/javascript\">if (window.MathJax && window.MathJax.Hub && window.MathJax.Hub.Config) {window.MathJax.Hub.Config({SVG: {font: \"STIX-Web\"}});}</script>                <script type=\"text/javascript\">window.PlotlyConfig = {MathJaxConfig: 'local'};</script>\n",
              "        <script charset=\"utf-8\" src=\"https://cdn.plot.ly/plotly-2.35.2.min.js\"></script>                <div id=\"92d98d4a-d7ed-48c5-bf44-2088eaac5d94\" class=\"plotly-graph-div\" style=\"height:525px; width:800px;\"></div>            <script type=\"text/javascript\">                                    window.PLOTLYENV=window.PLOTLYENV || {};                                    if (document.getElementById(\"92d98d4a-d7ed-48c5-bf44-2088eaac5d94\")) {                    Plotly.newPlot(                        \"92d98d4a-d7ed-48c5-bf44-2088eaac5d94\",                        [{\"alignmentgroup\":\"True\",\"bingroup\":\"x\",\"hovertemplate\":\"error=%{x}\\u003cbr\\u003ecount=%{y}\\u003cextra\\u003e\\u003c\\u002fextra\\u003e\",\"legendgroup\":\"\",\"marker\":{\"color\":\"#636efa\",\"pattern\":{\"shape\":\"\"}},\"name\":\"\",\"nbinsx\":50,\"offsetgroup\":\"\",\"orientation\":\"v\",\"showlegend\":false,\"x\":[-1.645720834881672,-15.16750551467635,-2.547857601349321,19.030242240611344,-9.093083219583349,-6.289840463781246,-2.519207988851335,-10.826595826979911,16.031775054228376,-4.579462048582911,2.169352622471365,13.209538794061814,-6.72859868669488,3.674547994535118,-1.022692272755691,-13.323992685304816,-2.8113211249067973,2.208722315090256,-6.097644563284234,6.31792243107013,-20.714633062888133,1.805370637144705,-6.1034137378299675,16.848056967450177,0.6294173418710471,8.762627244682491,-17.202411670003713,-4.941471148485917,6.6273118276570315,-0.5765577445298504,-9.339837577296692,1.9885326500112228,13.72072784495137,0.9157659115233088,-9.828695462396098,1.3468604535045756,6.668999415460121,-1.7761740309444747,-6.7767166748004115,9.734365596818705,-5.441272199939661,18.607824749388897,9.190331553094097,2.4029771257887518,-3.726487476892828,12.09196352288734,-2.7744308267336493,6.139659058339859,12.787370508370074,0.7532960440837826,-9.945732194744252,-0.03163685120954085,-20.02030161970937,11.611243664421721,-5.008216605861037,10.68229595092609,-17.03358796626955,1.9358672671521333,-8.51412354257586,2.3250496619758394,-18.969816274684632,-5.6129693285362805,9.317265738979074,-3.2552228296509753,-0.24975094533337483,-7.687045194544197,4.482301343563918,10.839428846686204,-14.332699402352517,-9.903089204208783,-9.318287326986834,-8.425931187362735,2.8154906169282157,-1.7302793610738547,-8.361274744133837,1.434815346537519,-1.8339393080802466,-5.670299087260176,-4.469784507987441,-17.59294166970153,3.0625137017961634,4.264194790650819,17.593634514729928,0.24664390573394712,-13.628396958245688,19.296443636726778,2.696667569164454,-0.17811733232937854,-2.6190111085624466,12.738207426528277,7.404078936903986,0.811585728714121,15.158460836123325,-5.785364262459979,-5.526815618262617,1.342525753481496,2.961745655920069,-1.3779522379694242,11.284798904744207,-19.26305996627842,-0.6247228271830494,-4.915910457864527,3.5848658925042542,15.527784791760382,-9.065355349706536,-0.5639159322634839,-2.1059019216943398,-12.18497599514886,-7.406657231414258,-11.306661999932373,5.387414288400024,6.3326916899946895,0.40245408082451206,-13.542261478502013,-7.78320050387741,-10.77425889447315,9.578102172916346,1.9601772524416532,-3.58568488569955,-2.664875351245435,16.71397619888714,6.341635301482029,4.607138576921557,-6.594209417454891,-4.324665081519953,18.309163923973998,13.45355875944233,-23.74910842919033,-3.370535876149461,2.1948380564563195,-5.572298095552114,6.221678070181838,12.435119905170893,-3.72667824629238,-11.801168935769255,1.954939455966354,-0.9377378438541228,-14.193043456516136,-2.448792759074763,7.397960458274099,-9.330737317255824,1.3477232117372893,-2.5968811116027695,2.1338944376178546,-9.629813140959783,17.015219892591603,9.925826240434645,-18.401700208049334,15.338559907771668,-2.0741155702497167,4.046572353587877,7.647745130142923,-18.626919107049048,12.78931823422812,5.082172949091614,-4.659671521254907,13.180838352281484,18.867620961754398,16.468293014354188,-3.350790528255672,22.312638538891314,13.167910411664707,17.930275254800016,-14.081985895683161,-6.919011507355847,21.114060768392704,1.4260789543551908,-3.569647438269371,-9.96306960061871,-9.59318913237641,10.542263420103282,9.543228412327025,-10.46325562719079,-20.95317465136671,17.061306232213184,13.53743665898115,-5.214484150926737,2.0587356422642387,20.513028128376973,-18.290763084737947,4.250021476354291,-1.408298045434151,-6.783787911729547,5.430226500847255,6.246667573772882,6.995514104019506,1.968249084195591,0.7821709399659653,4.576731644511042,-7.04523798921754,19.49203562786151,-19.928616139154116,3.887083267173196,6.314531858200269,-6.775299814989893,-23.567313239451124,-9.634842193053515,-12.234834150193478,22.146857818704433,-16.38112154440661,-4.584775741214813,20.062048924734228,4.299340502983071,2.0514414912893386,-9.870194068843944,-8.445480066381123,-14.350025360464045,3.830542633511783,6.011399528990225,-3.509751094061926,-0.3155727176051357,-6.020099016769706,-16.823304859116845,-13.919725031736291,-1.5155881857425015,-1.3237319022814091,-7.143333864660363,-2.884544714744351,9.530840553917983,1.2144027793660683,-1.6954566199534469,6.441675113679025,-0.9279268950118649,11.666997330543268,-8.472908604011451,29.09761709295745,-16.929450090540456,-9.916975391998989,-1.3519782420145106,-2.611106304483158,4.171216690298877,4.823595331201588,-11.702653886087596,6.790429787111904,10.836006042249508,-3.8155894046386436,0.8880132745298965,-3.4432136640164686,-14.368562873252259,-6.266663013176981,6.116308253871523,-0.9886054851856443,19.387995293322334,-6.796789148520482,21.153768055960924,9.44134713101581,-13.156327338431396,-0.30900475325783816,-7.854597875076891,-1.729379460440029,-4.0870594251191505,-10.29943611304725,8.186540246116891,-5.63006804519739,-5.555875856840402,6.361897670787272,10.749770759127614,-4.998030490688663,-9.198462335624754,8.461705113442264,-1.727657567656152,3.0167094535344035,-8.680326545802089,4.81660206608403,1.011788265249038,3.7946329564769883,-7.382618904130354,-4.813876124419778,6.067311212304531,6.02260794835955,-5.12881712550687,10.456457205470073,0.17055439292610686,-6.948061649328096,-0.42320653184636114,-18.12648515022127,-3.5841216902789625,-19.85997825098883,-6.9315219818331,-8.696941865314528,-5.069190859863596,9.388635530319135,-4.482684833972726,-19.620929804987767,-16.75215675813712,9.992902292385693,-5.95581137388767,9.250509146176498,12.362599881891754,-1.1819457792304888,2.5732003345065806,3.9237258262806876,-0.3746076232218343,-5.134956901598457,7.651257154659206,-0.6174787336208567,-0.054397764607131194,1.7126547666661054,-4.467490451114486,1.04923386173175,-22.130198560750358,-6.142546837215647,8.300577122421956,4.725155410763435,-8.021259801340051,-0.6980082805277874,8.08868312782684,7.540251110309349,-5.7082324002095675,-12.327633178025565,-6.30767519152586,1.6483332282539322,4.566767423206713,-11.97689087685211,-5.210500345529155,1.2496863779071106,-6.915769047163394,-4.925454792827793,2.6896430981296646,-5.996106837988123,-9.72646396485051,-2.333541648473627,-4.224965313525331,-4.254447155412308,4.955875676258842,-9.795727536976813,-16.158448619436584,3.867103930874123,-10.532210761106342,6.473474185740002,13.34605857192102,4.71023858680023,11.439973604641906,14.134288734162311,2.7541604842675724,-5.4319322780764026,0.10263598159458809,-2.5238473447288357,-5.1510376134573335,21.364785824746804,-5.498720705721908,22.123499969053825,-22.384658592078893,11.834973876113096,10.332478766427656,-20.508429057726374,5.020300710327547,10.50191979739067,14.966434933102832,-6.595666074589076,-0.3507774591332833,1.0086394679672281,-10.039701383788923,-1.038949925146298,6.9734562358088965,-6.058506756416648,5.5998064818410285,3.662484758897392,16.78451661714076,-2.653249874038252,-6.7430369622680075,14.69535732825564,-0.6741285365828702,2.0980388912768433,15.297316231042231,-3.3132994174680306,-7.258555178198918,5.496806082238962,5.7152731850997185,-3.102751437190676,26.81028822109205,-11.226663739609691,-4.861322957282638,-12.060975260804085,-6.994175627984873,11.06988293910402,8.642685586455983,-5.950956746514024,-6.08619549359949,6.84495944841251,-7.807508093886028,3.706411373079476,-13.364880889653477,-1.7189997128723888,4.309726393598133,4.262175955386681,1.5067313954659625,1.3813291946011077,-8.001405904442606,0.6739481058467618,2.7556704654436004,-7.07822776817207,6.3270857554258555,-13.440471999845045,-0.013408098153007586,-6.817446411451812,11.170595404659096,-9.368341790606593,2.2797585288102766,15.860272831303703,-6.423492738330381,0.40485805198684943,-10.996862846495091,0.5694052519900481,-2.626746214573103,-3.797766957022972,9.346279684850899,3.829765048180178,-5.064328019031564,-5.678739772564143,-7.3714481660825015,5.599849502499453,18.597375618325884,-17.15814940636922,-4.1150151730560935,15.69002855722158,2.5101236141674974,3.346587839840339,13.576669373805458,-1.0567957620148576,15.378304945494818,3.8561999106688916,17.11840506769704,7.194397973246353,12.3879328864666,-9.537469731329452,-0.6108791647616982,12.776532179925269,-6.91641970198549,5.902300384710642,4.291216538868454,-18.518303290959764,9.471587961609387,12.149295257228388,14.706328075496515,3.28603933821978,13.825003457866458,-2.726447250820513,-13.423731786339786,11.844136821264115,-15.174710481727843,-12.647649012842578,-9.0925591485598,-14.090682645716598,5.259352786239916,19.80518463335808,-8.216194678454983,4.587787937254745,-9.371455320044106,13.259832954287091,20.150870547468728,14.104376465433589,1.2660984457925366,17.077534287154364,4.759894400070721,-15.278248368665842,-14.024991543859358,5.758248913327122,14.111017734369767,3.411092763197246,4.17277275365776,-17.721978277041032,0.9446705202263672,-0.5659846908787642,2.9872037407372147,10.429587670348184,-3.217628749036791,-10.558790098703753,9.45020613305681,1.209946399644707,-11.02375859931638,-0.6515519025010406,5.725847454870149,-1.1474658192176292,13.366780709140698,-0.5756992642303089,-12.955214056532895,-5.724920960176462,-4.404524319932932,4.107416061660132,6.307067459621138,2.7557113072916337,5.592642322800458,0.5779785364220658,1.7286494623085957,4.309753858779786,8.144342931770964,-1.2753925082548676,-15.45143427917047,-10.579581603786949,-7.122368036501342,13.763322653309388,11.850701020380058,9.593778577137655,1.2146282092757303,4.481580954686748,11.396908779645358,-5.002231576922554,-0.9217661622611502,-2.6846925477999974,-10.805907373790774,21.899909074604636,-1.2500929679819421,2.829782214461183,-9.233568843014012,-16.549266660575,4.720591157272892,-3.1186501108477955,-2.0985762009815687,-9.217358851195243,-17.503445702788056,-9.757324445329303,2.4611600665293167,-1.263561510966369,5.730278951986421,14.998882273911008,-2.6204196366694106,27.164414959021727,-15.103100928329283,11.321055246848157,-19.36562594590488,2.9958493988420543,-2.966951217453442,12.823552383328462,-10.260144518764974,-4.96971428852369,5.9901220746043435,-5.957272549213357,4.3314303149962115,-4.003496560099364,-3.317544955374359,13.477156649479426,-1.8954923881409371,2.9638966236115607,4.042745083688075,1.0341906079954697,2.6073689513151663,5.43881204621016,-3.978943140626143,18.058808168326408,-1.6695074139556851,-14.203319239499152,11.48149360607016,-8.476442305834297,6.416180604788195,-15.342988843550629,3.926999308022843,0.2780144209687734,-9.529211521254396,-5.05899069913022,-8.125979534062893,1.6226859520815182,-2.757614799181596,20.42444939228649,-11.894078184697548,-9.71627402806611,14.96565820167055,-0.14796432980624274,9.936187532633923,-10.405004595022461,-7.145401343179486,2.0118945995692172,-3.2946468733130985,-16.640801401107908,-2.417468537993102,2.478710130157424,10.671383322954668,0.8146215350993486,10.08798634588863,1.1490475486509766,3.7033822677750123,24.33851575211233,23.76605373608058,9.4973842668944,18.85374921980356,29.146490290560834,7.20545911276254,-12.019363286013444,3.591732168069896,-12.012204767928964,-9.437476841372273,-7.525920267946347,2.636032255647706,4.5158536399892455,-5.6248860993593155,-8.548200083063506,-9.19237420334116,2.9068067277743523,11.124784214519067,1.4669953787322072,5.9977460797489215,-6.292578460468931,8.144812321652225,3.354125125017731,-13.992878273706964,13.721618744526737,-16.94285431002946,-13.976929883986685,-2.6706787454047856,9.135929592922878,2.5806717398558874,-20.16735017706017,-5.141240566731767,0.9205164649163748,3.5782309149581693,13.49570567225443,-3.2501525657434343,12.24789406709533,-22.326068031387692,1.5433381453536725,-14.570141352027662,-7.856486183702387,-4.144230754717768,7.338380753322028,-6.165723148934305,2.8563135483669413,13.543176804611988,-12.774622014492323,-5.857547478539772,16.823139874774938,9.315764484369268,8.506087755004373,-4.919119806964034,-15.520780694630844,-0.9634682456217831,-2.0099851572309433,-4.2370756980179465,15.160245090185583,1.3388010734546896,3.916406695943465,0.15185673564351987,-13.126439059550094,-14.764000208961491,5.405101137915892,7.892230679182859,7.500952644087377,15.775583110368629,4.093059970836045,-17.701227816604458,-4.245760411955288,-18.39972004789105,-2.048142951514208,-2.859985652819475,10.094152597926183,5.985222430695302,-17.84616035056446,-17.510402880201937,-7.041990448322878,-1.4952135512880886,1.7771574260494702,12.499750274299345,8.716219056370548,-2.3469635693064816,16.90264524983914,-14.037627019866576,-5.991202182880272,-13.167010815345108,-6.04492471317559,6.318470387280939,4.648770672624153,6.460352918585187,-0.7125848881195225,-14.097122608393505,-3.125042480215626,-8.109027330992888,12.422993194949186,-5.747835320160306,8.522616261018797,14.091890738733412,-4.242855014478948,-3.661912339755034,2.2206376882718786,8.628871746532567,-3.5834323804846235,3.131705851125531,3.1129692321892435,-1.0055364310687622,0.8516716051587565,-6.343463784092506,-6.661900704514039,-4.305241296067905,4.733723422734741,-10.346924115795773,4.547335333548105,8.783658791062066,-7.413822955599656,8.06881371998125,-3.3599033763016735,-9.099416636016358,15.774467579936925,-1.703785851870805,8.560407985054056,-4.995432285156113,-0.9140282216890654,0.6978257209976846,-11.16182815958679,12.046594452387211,9.295713719462015,-13.303430183278778,6.130555963506978,4.956459023717201,0.34459091660730223,5.179953987610048,8.824985504517372,-9.597077408808786,23.727309158957652,4.71957890852282,-0.7573591639513069,11.978228680216304,0.10358406901566752,19.332044659526204,8.27923812936011,11.81815501324482,14.247743916540983,7.230534483744776,7.8389005618162315,-22.588287203463054,6.5642185239882025,3.520572122246975,23.2774782785049,-4.213829863644108,16.782104733469396,-4.974583393733127,5.903549426749919,-6.717852544923346,-7.916187027728952,13.484871197748163,3.8472864695027624,-12.45250093478326,-11.203024876831378,9.5507523272709,12.243020515349485,-2.7730904460575516,-4.573724035701304,9.451229476706601,-7.430784887532965,-16.695912904409198,3.2692312459190163,17.914598195143284,-4.603865559982495,3.0878427579684455,-11.314784956920718,3.3059934059558174,-11.39444409885192,15.563178681839744,-8.834974955368196,7.360993141520254,5.320780081337944,20.159032599911157,-12.356403815472376,1.5777661235341611,-6.131907777000976,12.390920693930767,1.6701408025570146,0.5054167730520192,-2.3036283490352503,-4.507572366359369,0.12772381336651506,0.8451475300866491,-7.064939261531407,-25.9838546897479,-6.735997321120607,11.31889978788277,6.683433643627609,9.273157382790998,-1.4096082961668088,7.280988877850291,2.7300489538537533,-0.7853050816511029,3.5203645739032794,4.2620892510869055,6.620343960981074,-3.679947005562269,-4.98628320692147,1.550399620917318,13.179838062465208,2.414701896054467,8.649496361863086,-8.27253239633633,-3.4404128273650656,0.02233459425750084,-1.0427892140926929,-5.590122106129257,-6.021555121495737,-1.8923963229405416,12.668320669482029,14.988017393153967,-7.225817022354164,-2.283671936486229,-4.484392846339432,-14.528964901611573,4.253699951598193,-5.537489836546513,-2.362952778466635,4.3286719120010275,-1.367466613537843,-7.9463622329704435,4.101297901300157,-3.2198204248991686,5.413132509937654,-4.276969878357747,-4.645748810774478,-3.1673352046313283,5.048182665315096,-6.4326552576053615,-3.1668913188372656,7.186421488336123,-10.456321597981727,-7.268456090081699,5.236809675022869,-7.750340647991138,-0.610755701895755,-0.4216728373420153,0.34650213964313537,-5.489913063774765,1.4951223259999296,7.776675694998971,-26.96406739076707,-3.3743478272893555,3.8427574979215535,8.063199844620556,-1.4525030797141625,-25.506633409336814,1.2504676312479006,13.514514465378582,-3.8161149516853072,0.7933296187013639,-11.793911249749982,4.019137163251514,-12.39148244002935,-2.7948355998097725,-11.71709872529729,6.477426369769248,-4.834870847702462,23.305175078210652,4.018941340230491,-8.766248969814967,-1.1392164409624712,-7.990387504695946,-16.63785335665949,-10.308516099516169,-2.340711860842589,-6.476391888741944,-1.6547681514825996,3.0198009568748034,-13.562325200486896,-5.648870934328642,2.477232643514469,-4.34654734235734,-24.75766336423024,-0.9449275527533132,10.377682689474085,6.393530582848712,-7.734392050971465,-1.9846643214770978,-22.148688591699567,-4.8454944326153395,5.34879701190367,2.676189089598637,9.655360900178778,3.5001914666705716,-5.226028970758875,4.683186929930159,11.205747551832701,-16.336162289914967,0.0734482700977992,-20.322036579267376,-3.2377398373079984,-9.230277173376606,-1.011871282104778,-5.516344205755004,-15.92980475895152,12.879240579549943,3.4989426184733077,-3.7457788115339383,20.548210540426496,-5.071132917845389,2.564498162499902,10.181126081281477,-1.8288566016596803,-2.022002801283932,-13.606948868867974,13.275002086034263,-1.4458353069914551,-2.206820428916899,-9.06397432052296,8.542490964910783,27.475575983904584,-0.151117838996214,-0.06892626759544385,1.451252650829261,-18.011146099228398,7.0948636930208835,2.2061528784965247,15.871808561850685,-1.5162906818927837,18.327248364430957,15.440554496918466,4.655200457947302,-3.57453212611199,7.584608014967273,10.151699948019242,9.835687730564644,-12.324833997303585,-2.164455350313389,-2.9793532949902755,11.061023759835479,5.080114652348797,-7.574180691121256,7.30426750874642,-15.2129967077896,4.066923380094238,3.8938325854775258,-17.643980266846924,3.3134617023076487,21.75591253812241,-15.45397540512407,-17.877275920890725,17.11111055396728,4.792696850432222,8.456822651813184,-20.5385030261302,2.431270222170923,4.9907214689008015,15.676000492012022,3.250095405571585,6.1667165124034256,2.6685391832963816,8.413360895173383,22.567801264184894,3.0974044155986746,0.2824900702631794,7.212870104871456,-8.412620090171487,7.827990587582946,-15.413656936773492,7.600193652615644,9.949559463888534,-3.585598090254379,-0.36188400896483586,12.804288741482125,10.659181918979144,-4.623005359574904,4.947410136587067,-16.987484129509383,9.860512294127176,7.528547826074842,13.294888500913515,2.009394570558271,7.782275694212686,-5.141174457318698,9.188172902608613,-4.790132009518189,10.470480856689193,8.25319789982106,-5.645198528741631,9.138283797013635,-8.851564658513517,16.25150413920447,-4.238634112033367,3.1526156770290896,15.255162549802904,0.6344361695928029,-10.238169006728384,4.920202695219174,3.580922189037082,-7.099123617316081,-3.720101752707734,-23.37574115660253,-3.8261629939475768,4.063637745594647,-10.520743011315574,-4.778877455796518,-9.07541382254422,-10.470282086710355,18.433017819217753,3.3167170338912797,11.250603432344604,-6.993009853265107,9.194401283741541,12.725435500481083,7.129919393755841,6.02534774575502,2.2667609385388374,2.7576732960412045,6.736266570825066,-0.3342987776235873,-11.250056494625923,6.558657048323269,17.24443307843343,-5.040913820229903,0.5664400625925765,-18.731227119100097,-15.634525320666938,1.6786182991138787,4.934322646046795,0.05565532560390807,-2.707292313616307,-1.820784331116542,-11.910910038061203],\"xaxis\":\"x\",\"yaxis\":\"y\",\"type\":\"histogram\"}],                        {\"template\":{\"data\":{\"histogram2dcontour\":[{\"type\":\"histogram2dcontour\",\"colorbar\":{\"outlinewidth\":0,\"ticks\":\"\"},\"colorscale\":[[0.0,\"#0d0887\"],[0.1111111111111111,\"#46039f\"],[0.2222222222222222,\"#7201a8\"],[0.3333333333333333,\"#9c179e\"],[0.4444444444444444,\"#bd3786\"],[0.5555555555555556,\"#d8576b\"],[0.6666666666666666,\"#ed7953\"],[0.7777777777777778,\"#fb9f3a\"],[0.8888888888888888,\"#fdca26\"],[1.0,\"#f0f921\"]]}],\"choropleth\":[{\"type\":\"choropleth\",\"colorbar\":{\"outlinewidth\":0,\"ticks\":\"\"}}],\"histogram2d\":[{\"type\":\"histogram2d\",\"colorbar\":{\"outlinewidth\":0,\"ticks\":\"\"},\"colorscale\":[[0.0,\"#0d0887\"],[0.1111111111111111,\"#46039f\"],[0.2222222222222222,\"#7201a8\"],[0.3333333333333333,\"#9c179e\"],[0.4444444444444444,\"#bd3786\"],[0.5555555555555556,\"#d8576b\"],[0.6666666666666666,\"#ed7953\"],[0.7777777777777778,\"#fb9f3a\"],[0.8888888888888888,\"#fdca26\"],[1.0,\"#f0f921\"]]}],\"heatmap\":[{\"type\":\"heatmap\",\"colorbar\":{\"outlinewidth\":0,\"ticks\":\"\"},\"colorscale\":[[0.0,\"#0d0887\"],[0.1111111111111111,\"#46039f\"],[0.2222222222222222,\"#7201a8\"],[0.3333333333333333,\"#9c179e\"],[0.4444444444444444,\"#bd3786\"],[0.5555555555555556,\"#d8576b\"],[0.6666666666666666,\"#ed7953\"],[0.7777777777777778,\"#fb9f3a\"],[0.8888888888888888,\"#fdca26\"],[1.0,\"#f0f921\"]]}],\"heatmapgl\":[{\"type\":\"heatmapgl\",\"colorbar\":{\"outlinewidth\":0,\"ticks\":\"\"},\"colorscale\":[[0.0,\"#0d0887\"],[0.1111111111111111,\"#46039f\"],[0.2222222222222222,\"#7201a8\"],[0.3333333333333333,\"#9c179e\"],[0.4444444444444444,\"#bd3786\"],[0.5555555555555556,\"#d8576b\"],[0.6666666666666666,\"#ed7953\"],[0.7777777777777778,\"#fb9f3a\"],[0.8888888888888888,\"#fdca26\"],[1.0,\"#f0f921\"]]}],\"contourcarpet\":[{\"type\":\"contourcarpet\",\"colorbar\":{\"outlinewidth\":0,\"ticks\":\"\"}}],\"contour\":[{\"type\":\"contour\",\"colorbar\":{\"outlinewidth\":0,\"ticks\":\"\"},\"colorscale\":[[0.0,\"#0d0887\"],[0.1111111111111111,\"#46039f\"],[0.2222222222222222,\"#7201a8\"],[0.3333333333333333,\"#9c179e\"],[0.4444444444444444,\"#bd3786\"],[0.5555555555555556,\"#d8576b\"],[0.6666666666666666,\"#ed7953\"],[0.7777777777777778,\"#fb9f3a\"],[0.8888888888888888,\"#fdca26\"],[1.0,\"#f0f921\"]]}],\"surface\":[{\"type\":\"surface\",\"colorbar\":{\"outlinewidth\":0,\"ticks\":\"\"},\"colorscale\":[[0.0,\"#0d0887\"],[0.1111111111111111,\"#46039f\"],[0.2222222222222222,\"#7201a8\"],[0.3333333333333333,\"#9c179e\"],[0.4444444444444444,\"#bd3786\"],[0.5555555555555556,\"#d8576b\"],[0.6666666666666666,\"#ed7953\"],[0.7777777777777778,\"#fb9f3a\"],[0.8888888888888888,\"#fdca26\"],[1.0,\"#f0f921\"]]}],\"mesh3d\":[{\"type\":\"mesh3d\",\"colorbar\":{\"outlinewidth\":0,\"ticks\":\"\"}}],\"scatter\":[{\"fillpattern\":{\"fillmode\":\"overlay\",\"size\":10,\"solidity\":0.2},\"type\":\"scatter\"}],\"parcoords\":[{\"type\":\"parcoords\",\"line\":{\"colorbar\":{\"outlinewidth\":0,\"ticks\":\"\"}}}],\"scatterpolargl\":[{\"type\":\"scatterpolargl\",\"marker\":{\"colorbar\":{\"outlinewidth\":0,\"ticks\":\"\"}}}],\"bar\":[{\"error_x\":{\"color\":\"#2a3f5f\"},\"error_y\":{\"color\":\"#2a3f5f\"},\"marker\":{\"line\":{\"color\":\"#E5ECF6\",\"width\":0.5},\"pattern\":{\"fillmode\":\"overlay\",\"size\":10,\"solidity\":0.2}},\"type\":\"bar\"}],\"scattergeo\":[{\"type\":\"scattergeo\",\"marker\":{\"colorbar\":{\"outlinewidth\":0,\"ticks\":\"\"}}}],\"scatterpolar\":[{\"type\":\"scatterpolar\",\"marker\":{\"colorbar\":{\"outlinewidth\":0,\"ticks\":\"\"}}}],\"histogram\":[{\"marker\":{\"pattern\":{\"fillmode\":\"overlay\",\"size\":10,\"solidity\":0.2}},\"type\":\"histogram\"}],\"scattergl\":[{\"type\":\"scattergl\",\"marker\":{\"colorbar\":{\"outlinewidth\":0,\"ticks\":\"\"}}}],\"scatter3d\":[{\"type\":\"scatter3d\",\"line\":{\"colorbar\":{\"outlinewidth\":0,\"ticks\":\"\"}},\"marker\":{\"colorbar\":{\"outlinewidth\":0,\"ticks\":\"\"}}}],\"scattermapbox\":[{\"type\":\"scattermapbox\",\"marker\":{\"colorbar\":{\"outlinewidth\":0,\"ticks\":\"\"}}}],\"scatterternary\":[{\"type\":\"scatterternary\",\"marker\":{\"colorbar\":{\"outlinewidth\":0,\"ticks\":\"\"}}}],\"scattercarpet\":[{\"type\":\"scattercarpet\",\"marker\":{\"colorbar\":{\"outlinewidth\":0,\"ticks\":\"\"}}}],\"carpet\":[{\"aaxis\":{\"endlinecolor\":\"#2a3f5f\",\"gridcolor\":\"white\",\"linecolor\":\"white\",\"minorgridcolor\":\"white\",\"startlinecolor\":\"#2a3f5f\"},\"baxis\":{\"endlinecolor\":\"#2a3f5f\",\"gridcolor\":\"white\",\"linecolor\":\"white\",\"minorgridcolor\":\"white\",\"startlinecolor\":\"#2a3f5f\"},\"type\":\"carpet\"}],\"table\":[{\"cells\":{\"fill\":{\"color\":\"#EBF0F8\"},\"line\":{\"color\":\"white\"}},\"header\":{\"fill\":{\"color\":\"#C8D4E3\"},\"line\":{\"color\":\"white\"}},\"type\":\"table\"}],\"barpolar\":[{\"marker\":{\"line\":{\"color\":\"#E5ECF6\",\"width\":0.5},\"pattern\":{\"fillmode\":\"overlay\",\"size\":10,\"solidity\":0.2}},\"type\":\"barpolar\"}],\"pie\":[{\"automargin\":true,\"type\":\"pie\"}]},\"layout\":{\"autotypenumbers\":\"strict\",\"colorway\":[\"#636efa\",\"#EF553B\",\"#00cc96\",\"#ab63fa\",\"#FFA15A\",\"#19d3f3\",\"#FF6692\",\"#B6E880\",\"#FF97FF\",\"#FECB52\"],\"font\":{\"color\":\"#2a3f5f\"},\"hovermode\":\"closest\",\"hoverlabel\":{\"align\":\"left\"},\"paper_bgcolor\":\"white\",\"plot_bgcolor\":\"#E5ECF6\",\"polar\":{\"bgcolor\":\"#E5ECF6\",\"angularaxis\":{\"gridcolor\":\"white\",\"linecolor\":\"white\",\"ticks\":\"\"},\"radialaxis\":{\"gridcolor\":\"white\",\"linecolor\":\"white\",\"ticks\":\"\"}},\"ternary\":{\"bgcolor\":\"#E5ECF6\",\"aaxis\":{\"gridcolor\":\"white\",\"linecolor\":\"white\",\"ticks\":\"\"},\"baxis\":{\"gridcolor\":\"white\",\"linecolor\":\"white\",\"ticks\":\"\"},\"caxis\":{\"gridcolor\":\"white\",\"linecolor\":\"white\",\"ticks\":\"\"}},\"coloraxis\":{\"colorbar\":{\"outlinewidth\":0,\"ticks\":\"\"}},\"colorscale\":{\"sequential\":[[0.0,\"#0d0887\"],[0.1111111111111111,\"#46039f\"],[0.2222222222222222,\"#7201a8\"],[0.3333333333333333,\"#9c179e\"],[0.4444444444444444,\"#bd3786\"],[0.5555555555555556,\"#d8576b\"],[0.6666666666666666,\"#ed7953\"],[0.7777777777777778,\"#fb9f3a\"],[0.8888888888888888,\"#fdca26\"],[1.0,\"#f0f921\"]],\"sequentialminus\":[[0.0,\"#0d0887\"],[0.1111111111111111,\"#46039f\"],[0.2222222222222222,\"#7201a8\"],[0.3333333333333333,\"#9c179e\"],[0.4444444444444444,\"#bd3786\"],[0.5555555555555556,\"#d8576b\"],[0.6666666666666666,\"#ed7953\"],[0.7777777777777778,\"#fb9f3a\"],[0.8888888888888888,\"#fdca26\"],[1.0,\"#f0f921\"]],\"diverging\":[[0,\"#8e0152\"],[0.1,\"#c51b7d\"],[0.2,\"#de77ae\"],[0.3,\"#f1b6da\"],[0.4,\"#fde0ef\"],[0.5,\"#f7f7f7\"],[0.6,\"#e6f5d0\"],[0.7,\"#b8e186\"],[0.8,\"#7fbc41\"],[0.9,\"#4d9221\"],[1,\"#276419\"]]},\"xaxis\":{\"gridcolor\":\"white\",\"linecolor\":\"white\",\"ticks\":\"\",\"title\":{\"standoff\":15},\"zerolinecolor\":\"white\",\"automargin\":true,\"zerolinewidth\":2},\"yaxis\":{\"gridcolor\":\"white\",\"linecolor\":\"white\",\"ticks\":\"\",\"title\":{\"standoff\":15},\"zerolinecolor\":\"white\",\"automargin\":true,\"zerolinewidth\":2},\"scene\":{\"xaxis\":{\"backgroundcolor\":\"#E5ECF6\",\"gridcolor\":\"white\",\"linecolor\":\"white\",\"showbackground\":true,\"ticks\":\"\",\"zerolinecolor\":\"white\",\"gridwidth\":2},\"yaxis\":{\"backgroundcolor\":\"#E5ECF6\",\"gridcolor\":\"white\",\"linecolor\":\"white\",\"showbackground\":true,\"ticks\":\"\",\"zerolinecolor\":\"white\",\"gridwidth\":2},\"zaxis\":{\"backgroundcolor\":\"#E5ECF6\",\"gridcolor\":\"white\",\"linecolor\":\"white\",\"showbackground\":true,\"ticks\":\"\",\"zerolinecolor\":\"white\",\"gridwidth\":2}},\"shapedefaults\":{\"line\":{\"color\":\"#2a3f5f\"}},\"annotationdefaults\":{\"arrowcolor\":\"#2a3f5f\",\"arrowhead\":0,\"arrowwidth\":1},\"geo\":{\"bgcolor\":\"white\",\"landcolor\":\"#E5ECF6\",\"subunitcolor\":\"white\",\"showland\":true,\"showlakes\":true,\"lakecolor\":\"white\"},\"title\":{\"x\":0.05},\"mapbox\":{\"style\":\"light\"}}},\"xaxis\":{\"anchor\":\"y\",\"domain\":[0.0,1.0],\"title\":{\"text\":\"error\"}},\"yaxis\":{\"anchor\":\"x\",\"domain\":[0.0,1.0],\"title\":{\"text\":\"count\"}},\"legend\":{\"tracegroupgap\":0},\"margin\":{\"t\":60},\"barmode\":\"relative\",\"width\":800},                        {\"responsive\": true}                    ).then(function(){\n",
              "                            \n",
              "var gd = document.getElementById('92d98d4a-d7ed-48c5-bf44-2088eaac5d94');\n",
              "var x = new MutationObserver(function (mutations, observer) {{\n",
              "        var display = window.getComputedStyle(gd).display;\n",
              "        if (!display || display === 'none') {{\n",
              "            console.log([gd, 'removed!']);\n",
              "            Plotly.purge(gd);\n",
              "            observer.disconnect();\n",
              "        }}\n",
              "}});\n",
              "\n",
              "// Listen for the removal of the full notebook cells\n",
              "var notebookContainer = gd.closest('#notebook-container');\n",
              "if (notebookContainer) {{\n",
              "    x.observe(notebookContainer, {childList: true});\n",
              "}}\n",
              "\n",
              "// Listen for the clearing of the current output cell\n",
              "var outputEl = gd.closest('.output');\n",
              "if (outputEl) {{\n",
              "    x.observe(outputEl, {childList: true});\n",
              "}}\n",
              "\n",
              "                        })                };                            </script>        </div>\n",
              "</body>\n",
              "</html>"
            ]
          },
          "metadata": {}
        }
      ]
    },
    {
      "cell_type": "markdown",
      "metadata": {
        "id": "ZVr1O1j3FFiM"
      },
      "source": [
        "### <a name='a3'></a> Mean Absolute Error - Średni błąd bezwzględny\n",
        "### $$MAE = \\frac{1}{n}\\sum_{i=1}^{n}|y_{true} - y_{pred}|$$"
      ]
    },
    {
      "cell_type": "code",
      "metadata": {
        "id": "4fwXpVNyFXBl",
        "outputId": "4daccfc4-3b25-4fac-be4f-b55452429010",
        "colab": {
          "base_uri": "https://localhost:8080/"
        }
      },
      "source": [
        "def mean_absolute_error(y_true, y_pred):\n",
        "    return abs(y_true - y_pred).sum() / len(y_true)\n",
        "\n",
        "mean_absolute_error(y_true, y_pred)"
      ],
      "execution_count": 26,
      "outputs": [
        {
          "output_type": "execute_result",
          "data": {
            "text/plain": [
              "7.879966736022787"
            ]
          },
          "metadata": {},
          "execution_count": 26
        }
      ]
    },
    {
      "cell_type": "code",
      "metadata": {
        "id": "nOINyAyqErWz",
        "outputId": "0528b63a-ce13-4534-94c2-a0941da33d2f",
        "colab": {
          "base_uri": "https://localhost:8080/"
        }
      },
      "source": [
        "from sklearn.metrics import mean_absolute_error\n",
        "mean_absolute_error(y_true, y_pred)"
      ],
      "execution_count": 27,
      "outputs": [
        {
          "output_type": "execute_result",
          "data": {
            "text/plain": [
              "7.879966736022787"
            ]
          },
          "metadata": {},
          "execution_count": 27
        }
      ]
    },
    {
      "cell_type": "markdown",
      "metadata": {
        "id": "dbAtacGCGjaR"
      },
      "source": [
        "### <a name='a4'></a> Mean Squared Error - MSE - Błąd średniokwadratowy\n",
        "### $$MSE = \\frac{1}{n}\\sum_{i=1}^{n}(y_{true} - y_{pred})^{2}$$"
      ]
    },
    {
      "cell_type": "code",
      "metadata": {
        "id": "rikMpoD9E91I",
        "outputId": "0a2ec3a9-2981-4f5e-c078-737bfcaf0d49",
        "colab": {
          "base_uri": "https://localhost:8080/"
        }
      },
      "source": [
        "def mean_squared_error(y_true, y_pred):\n",
        "    return ((y_true - y_pred) ** 2).sum() / len(y_true)\n",
        "\n",
        "mean_squared_error(y_true, y_pred)"
      ],
      "execution_count": 28,
      "outputs": [
        {
          "output_type": "execute_result",
          "data": {
            "text/plain": [
              "96.81396977612414"
            ]
          },
          "metadata": {},
          "execution_count": 28
        }
      ]
    },
    {
      "cell_type": "code",
      "metadata": {
        "id": "BxQx5HFaGzi5",
        "outputId": "efc9248a-99a1-4361-c0c1-3a7cc85c6cca",
        "colab": {
          "base_uri": "https://localhost:8080/"
        }
      },
      "source": [
        "from sklearn.metrics import mean_squared_error\n",
        "\n",
        "mean_squared_error(y_true, y_pred)"
      ],
      "execution_count": 29,
      "outputs": [
        {
          "output_type": "execute_result",
          "data": {
            "text/plain": [
              "96.81396977612414"
            ]
          },
          "metadata": {},
          "execution_count": 29
        }
      ]
    },
    {
      "cell_type": "markdown",
      "metadata": {
        "id": "SKJJg3jNG-xj"
      },
      "source": [
        "### <a name='a5'></a> Root Mean Squared Error - RMSE - Pierwiastek błędu średniokwadratowego\n",
        "### $$RMSE = \\sqrt{MSE}$$"
      ]
    },
    {
      "cell_type": "code",
      "metadata": {
        "id": "ZoEokLM8G8JO",
        "outputId": "600c8f97-f698-46bf-8752-2d397209f876",
        "colab": {
          "base_uri": "https://localhost:8080/"
        }
      },
      "source": [
        "# mowi o tym jak srednio nasze predykcje odbiegaja od wartosci prawdziwych\n",
        "def root_mean_squared_error(y_true, y_pred):\n",
        "    return np.sqrt(((y_true - y_pred) ** 2).sum() / len(y_true))\n",
        "\n",
        "root_mean_squared_error(y_true, y_pred)"
      ],
      "execution_count": 30,
      "outputs": [
        {
          "output_type": "execute_result",
          "data": {
            "text/plain": [
              "9.83940901559256"
            ]
          },
          "metadata": {},
          "execution_count": 30
        }
      ]
    },
    {
      "cell_type": "code",
      "metadata": {
        "id": "VEdgXl5PHdEQ",
        "outputId": "c1a3065d-00c1-49c9-9d45-e3d34183ca47",
        "colab": {
          "base_uri": "https://localhost:8080/"
        }
      },
      "source": [
        "np.sqrt(mean_squared_error(y_true, y_pred))"
      ],
      "execution_count": 31,
      "outputs": [
        {
          "output_type": "execute_result",
          "data": {
            "text/plain": [
              "9.83940901559256"
            ]
          },
          "metadata": {},
          "execution_count": 31
        }
      ]
    },
    {
      "cell_type": "markdown",
      "metadata": {
        "id": "wzS5t7dzIH-x"
      },
      "source": [
        "### <a name='a6'></a>  Max Error - Błąd maksymalny\n",
        "\n",
        "$$ME = max(|y\\_true - y\\_pred|)$$"
      ]
    },
    {
      "cell_type": "code",
      "metadata": {
        "id": "0v4d3b_FHsYO"
      },
      "source": [
        "def max_error(y_true, y_pred):\n",
        "    return abs(y_true - y_pred).max()"
      ],
      "execution_count": 32,
      "outputs": []
    },
    {
      "cell_type": "code",
      "metadata": {
        "id": "IbSGizXdH1Fc",
        "outputId": "8a7e975e-0e17-42e9-d629-d2386ee8cb50",
        "colab": {
          "base_uri": "https://localhost:8080/"
        }
      },
      "source": [
        "max_error(y_true, y_pred)"
      ],
      "execution_count": 33,
      "outputs": [
        {
          "output_type": "execute_result",
          "data": {
            "text/plain": [
              "29.146490290560834"
            ]
          },
          "metadata": {},
          "execution_count": 33
        }
      ]
    },
    {
      "cell_type": "code",
      "metadata": {
        "id": "NQPVS0cSIAsC",
        "outputId": "6198febe-ee23-4ac2-9a3e-691226b65efb",
        "colab": {
          "base_uri": "https://localhost:8080/"
        }
      },
      "source": [
        "from sklearn.metrics import max_error\n",
        "\n",
        "max_error(y_true, y_pred)"
      ],
      "execution_count": 34,
      "outputs": [
        {
          "output_type": "execute_result",
          "data": {
            "text/plain": [
              "29.146490290560834"
            ]
          },
          "metadata": {},
          "execution_count": 34
        }
      ]
    },
    {
      "cell_type": "markdown",
      "metadata": {
        "id": "xRrH2NA5IYt9"
      },
      "source": [
        "### <a name='a7'></a>  R2 score - współczynnik determinacji\n",
        "### $$R2\\_score = 1 - \\frac{\\sum_{i=1}^{N}(y_{true} - y_{pred})^{2}}{\\sum_{i=1}^{N}(y_{true} - \\overline{y_{true}})^{2}}$$"
      ]
    },
    {
      "cell_type": "code",
      "metadata": {
        "id": "ePP8ovwPIGu0",
        "outputId": "079287dc-32e0-4736-c839-473f689132ad",
        "colab": {
          "base_uri": "https://localhost:8080/"
        }
      },
      "source": [
        "from sklearn.metrics import r2_score\n",
        "\n",
        "r2_score(y_true, y_pred)"
      ],
      "execution_count": 35,
      "outputs": [
        {
          "output_type": "execute_result",
          "data": {
            "text/plain": [
              "0.7657087453125047"
            ]
          },
          "metadata": {},
          "execution_count": 35
        }
      ]
    },
    {
      "cell_type": "code",
      "metadata": {
        "id": "GWtiZRcPIsdP"
      },
      "source": [
        "def r2_score(y_true, y_pred):\n",
        "    numerator = ((y_true - y_pred) ** 2).sum()\n",
        "    denominator = ((y_true - y_true.mean()) ** 2).sum()\n",
        "    try:\n",
        "        r2 = 1 - numerator / denominator\n",
        "    except ZeroDivisionError:\n",
        "        print('Dzielenie przez zero')\n",
        "    return r2"
      ],
      "execution_count": 37,
      "outputs": []
    },
    {
      "cell_type": "code",
      "metadata": {
        "id": "q4LYk_8oJNTP",
        "outputId": "66a6d528-5216-4f32-b816-b8d80a82887c",
        "colab": {
          "base_uri": "https://localhost:8080/"
        }
      },
      "source": [
        "r2_score(y_true, y_pred)"
      ],
      "execution_count": 38,
      "outputs": [
        {
          "output_type": "execute_result",
          "data": {
            "text/plain": [
              "0.7657087453125047"
            ]
          },
          "metadata": {},
          "execution_count": 38
        }
      ]
    },
    {
      "cell_type": "code",
      "metadata": {
        "id": "xuBi36i72dOY"
      },
      "source": [],
      "execution_count": null,
      "outputs": []
    }
  ]
}